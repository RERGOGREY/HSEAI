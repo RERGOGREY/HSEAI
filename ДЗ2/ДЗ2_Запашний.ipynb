{
 "cells": [
  {
   "cell_type": "markdown",
   "metadata": {
    "colab_type": "text",
    "id": "view-in-github"
   },
   "source": [
    "<a href=\"https://colab.research.google.com/github/Murcha1990/ML_AI24/blob/main/Hometasks/Pro/AI_HW2_GD_pro.ipynb\" target=\"_parent\"><img src=\"https://colab.research.google.com/assets/colab-badge.svg\" alt=\"Open In Colab\"/></a>"
   ]
  },
  {
   "cell_type": "markdown",
   "metadata": {
    "id": "lJ1Hwqs18fSZ"
   },
   "source": [
    "# **Домашнее задание 2: Градиентный спуск (pro)**\n",
    "\n",
    "В этом задании две части - теоретическая и практическая. Теорию можно набирать, используя LaTex или просто решать на листочке, сфотографировать и отправить вместе с заполненным ноутбуком в anytask.\n",
    "\n",
    "Максимальный балл за домашнее задание - 10."
   ]
  },
  {
   "cell_type": "markdown",
   "metadata": {
    "id": "EMZ5My7kiPY_"
   },
   "source": [
    "## Часть 1 (теоретическая)\n",
    "\n",
    "## Задание 1 (**1.5 балла**)\n",
    "\n",
    "В случае одномерной Ridge-регрессии минимизируется функция со штрафом:\n",
    "$$Q(w) = (y-xw)^T(y-xw)+\\lambda w^2,$$\n",
    "где $\\lambda$ - положительный параметр, штрафующий функцию за слишком большие значения $w$.\n",
    "\n",
    "1)  (**0.5 балла**) Найдите производную $\\nabla_w Q(w)$, выведите формулу для оптимального $w$.\n",
    "\n",
    "2) (**0.5 балла**) Найдите вторую производную $\\nabla^2_w Q(w)$. Убедитесь, что мы оказались в точке минимума.\n",
    "\n",
    "3) (**0.5 балла**) Выпишите шаг градиентного спуска в матричном виде."
   ]
  },
  {
   "cell_type": "markdown",
   "metadata": {
    "id": "LQMI7b9Y9KvW"
   },
   "source": [
    "1. Производная: $\\nabla_{w}Q(w)=2\\lambda w-2x(y-xw)$; оптимальное $w=\\frac{xy}{x^2+\\lambda}$.\n",
    "2. $\\nabla_{w}^2Q(w)=2\\lambda+2x^2$, при $\\lambda>0$ получаем $\\nabla_{w}^2Q(w)>0$, что является точкой минимума.\n",
    "3. $w_{t+1}=w_{t}-\\eta (2X^T(Xw_{t}-y)+2\\lambda w_{t})$"
   ]
  },
  {
   "cell_type": "markdown",
   "metadata": {
    "id": "_pGazqdK9Tvf"
   },
   "source": [
    "## Часть 2 (практическая).\n",
    "\n",
    "## Задание 2 (**1 балл**)\n",
    "\n",
    "Дана функция: $$f(x) = x\\cdot sin(5x) + 0.1 \\cdot x^2$$\n",
    "\n",
    "Для этой функции:\n",
    "\n",
    "- [x] Реализуйте (или возьмите рассмотренный на занятии) метод градиетного спуска с условием остановки `stop=1e^-6` и шагом `eta=0.001`. **Градиетный спуск обязательно должен сохранять траекторию движения.**\n",
    "- [x] Задайте стартовые точки x0, равные 0, 0.5, 1\n",
    "- [x] Реализуйте нахождение точек минимума и максимума функции $f(x)$ (для нахождения максимума нам нужно в направлении градиента, а не антиградиента)\n",
    "- [x] Проанализируйте результаты. Предположите, с чем они связаны. Ответьте на вопросы:\n",
    "    - Чему равны значения экстремумов?\n",
    "    - При старте из какой начальной точки найденные экстремумы совпадут?"
   ]
  },
  {
   "cell_type": "code",
   "execution_count": 2,
   "metadata": {
    "id": "HJbAEs3_-zet"
   },
   "outputs": [
    {
     "name": "stderr",
     "output_type": "stream",
     "text": [
      "Fontconfig warning: ignoring UTF-8: not a valid region tag\n",
      "Matplotlib is building the font cache; this may take a moment.\n"
     ]
    }
   ],
   "source": [
    "import random\n",
    "\n",
    "import numpy as np\n",
    "import seaborn as sns\n",
    "import matplotlib.pyplot as plt"
   ]
  },
  {
   "cell_type": "code",
   "execution_count": 3,
   "metadata": {},
   "outputs": [],
   "source": [
    "def f(x):\n",
    "    return x * np.sin(5*x) + 0.1 * x**2\n",
    "\n",
    "def df(x):\n",
    "    return np.sin(5*x) + np.cos(5*x) * 5 * x + 0.2 * x\n",
    "\n",
    "def gradient_descent(x0, eta=0.001, max_iter=1_000, stop=1e-6):\n",
    "    path = []\n",
    "    x_current = x0\n",
    "    \n",
    "    for i in range(max_iter):\n",
    "        path.append(x_current)\n",
    "        \n",
    "        x_new = x_current - eta * df(x=x_current)\n",
    "        \n",
    "        if abs(x_new - x_current) < stop:\n",
    "            path.append(x_current)\n",
    "            \n",
    "            return x_current, path\n",
    "        \n",
    "        x_current = x_new\n",
    "        \n",
    "    return x_current, path\n",
    "\n",
    "def find_min_max_points(x0, eta=0.001, max_iter=1_000, stop=1e-6):\n",
    "    local_minimum = gradient_descent(x0=x0)[0]\n",
    "    x_current = x0\n",
    "    \n",
    "    for i in range(max_iter):\n",
    "        x_new = x_current + eta * df(x=x_current)\n",
    "        \n",
    "        if abs(x_new - x_current) < stop:\n",
    "            local_maximum = x_current\n",
    "            \n",
    "            return local_minimum, local_maximum\n",
    "        \n",
    "        x_current = x_new\n",
    "\n",
    "    local_maximum = x_current\n",
    "    \n",
    "    return local_minimum, local_maximum"
   ]
  },
  {
   "cell_type": "code",
   "execution_count": 4,
   "metadata": {},
   "outputs": [],
   "source": [
    "x0, path0 = gradient_descent(x0=0)\n",
    "x1, path1 = gradient_descent(x0=0.5)\n",
    "x2, path2 = gradient_descent(x0=1)\n",
    "\n",
    "local_minimum0, local_maximum0 = find_min_max_points(x0=0)\n",
    "local_minimum1, local_maximum1 = find_min_max_points(x0=0.5)\n",
    "local_minimum2, local_maximum2 = find_min_max_points(x0=1)"
   ]
  },
  {
   "cell_type": "code",
   "execution_count": 6,
   "metadata": {},
   "outputs": [
    {
     "data": {
      "text/plain": [
       "(0,\n",
       " 0.975060876515715,\n",
       " 0.9751376478508075,\n",
       " [0, 0],\n",
       " [0.5,\n",
       "  0.5013043868947634,\n",
       "  0.50262871628548,\n",
       "  0.5039732826996968,\n",
       "  0.505338383290982,\n",
       "  0.506724317730896,\n",
       "  0.5081313880904593,\n",
       "  0.509559898710535,\n",
       "  0.5110101560605197,\n",
       "  0.5124824685847187,\n",
       "  0.5139771465357561,\n",
       "  0.5154945017943534,\n",
       "  0.5170348476747887,\n",
       "  0.5185984987153273,\n",
       "  0.5201857704529,\n",
       "  0.5217969791812841,\n",
       "  0.5234324416920272,\n",
       "  0.5250924749973417,\n",
       "  0.5267773960341817,\n",
       "  0.5284875213487061,\n",
       "  0.5302231667603227,\n",
       "  0.5319846470045044,\n",
       "  0.5337722753535656,\n",
       "  0.535586363214589,\n",
       "  0.5374272197037004,\n",
       "  0.539295151195899,\n",
       "  0.5411904608496653,\n",
       "  0.5431134481055938,\n",
       "  0.545064408158321,\n",
       "  0.547043631401056,\n",
       "  0.5490514028420643,\n",
       "  0.5510880014925008,\n",
       "  0.5531536997250515,\n",
       "  0.5552487626029072,\n",
       "  0.5573734471786727,\n",
       "  0.5595280017629016,\n",
       "  0.5617126651620487,\n",
       "  0.5639276658857402,\n",
       "  0.5661732213233905,\n",
       "  0.5684495368903273,\n",
       "  0.5707568051437397,\n",
       "  0.5730952048689322,\n",
       "  0.57546490013654,\n",
       "  0.5778660393315644,\n",
       "  0.5802987541552916,\n",
       "  0.5827631586013838,\n",
       "  0.5852593479076768,\n",
       "  0.5877873974854675,\n",
       "  0.5903473618283517,\n",
       "  0.592939273402951,\n",
       "  0.5955631415241718,\n",
       "  0.5982189512179432,\n",
       "  0.6009066620747082,\n",
       "  0.6036262070972679,\n",
       "  0.6063774915469186,\n",
       "  0.6091603917921655,\n",
       "  0.6119747541646406,\n",
       "  0.6148203938271983,\n",
       "  0.6176970936595043,\n",
       "  0.6206046031667685,\n",
       "  0.623542637417593,\n",
       "  0.626510876017218,\n",
       "  0.6295089621227329,\n",
       "  0.6325365015070835,\n",
       "  0.6355930616789399,\n",
       "  0.6386781710656851,\n",
       "  0.6417913182669419,\n",
       "  0.644931951386165,\n",
       "  0.6480994774478841,\n",
       "  0.6512932619081853,\n",
       "  0.6545126282659556,\n",
       "  0.6577568577822894,\n",
       "  0.6610251893152547,\n",
       "  0.6643168192769425,\n",
       "  0.6676309017193708,\n",
       "  0.670966548555378,\n",
       "  0.6743228299201277,\n",
       "  0.6776987746782449,\n",
       "  0.6810933710809236,\n",
       "  0.6845055675765852,\n",
       "  0.687934273777827,\n",
       "  0.6913783615864912,\n",
       "  0.6948366664777054,\n",
       "  0.6983079889427088,\n",
       "  0.7017910960891922,\n",
       "  0.7052847233967463,\n",
       "  0.7087875766238597,\n",
       "  0.7122983338617254,\n",
       "  0.7158156477289355,\n",
       "  0.7193381476999717,\n",
       "  0.722864442559247,\n",
       "  0.7263931229713438,\n",
       "  0.7299227641570357,\n",
       "  0.7334519286636858,\n",
       "  0.7369791692177057,\n",
       "  0.7405030316459417,\n",
       "  0.7440220578521446,\n",
       "  0.7475347888340879,\n",
       "  0.7510397677264301,\n",
       "  0.7545355428540901,\n",
       "  0.7580206707807067,\n",
       "  0.7614937193367111,\n",
       "  0.7649532706116335,\n",
       "  0.7683979238955105,\n",
       "  0.77182629855464,\n",
       "  0.775237036827454,\n",
       "  0.7786288065269277,\n",
       "  0.7820003036367137,\n",
       "  0.7853502547890745,\n",
       "  0.788677419613663,\n",
       "  0.7919805929472675,\n",
       "  0.7952586068957723,\n",
       "  0.7985103327407765,\n",
       "  0.8017346826845451,\n",
       "  0.8049306114282209,\n",
       "  0.8080971175794951,\n",
       "  0.8112332448871902,\n",
       "  0.8143380833014506,\n",
       "  0.8174107698594456,\n",
       "  0.8204504893976445,\n",
       "  0.8234564750928364,\n",
       "  0.8264280088350968,\n",
       "  0.8293644214368747,\n",
       "  0.8322650926832488,\n",
       "  0.8351294512292025,\n",
       "  0.8379569743504691,\n",
       "  0.8407471875551116,\n",
       "  0.8434996640635197,\n",
       "  0.8462140241649336,\n",
       "  0.8488899344589347,\n",
       "  0.8515271069905914,\n",
       "  0.8541252982881065,\n",
       "  0.8566843083118891,\n",
       "  0.8592039793239818,\n",
       "  0.8616841946867018,\n",
       "  0.8641248775992268,\n",
       "  0.8665259897806682,\n",
       "  0.8688875301079295,\n",
       "  0.8712095332163707,\n",
       "  0.87349206807097,\n",
       "  0.8757352365153233,\n",
       "  0.8779391718054399,\n",
       "  0.8801040371348929,\n",
       "  0.882230024157467,\n",
       "  0.8843173515130214,\n",
       "  0.8863662633618578,\n",
       "  0.8883770279324502,\n",
       "  0.8903499360869701,\n",
       "  0.8922852999086153,\n",
       "  0.894183451314345,\n",
       "  0.8960447406962223,\n",
       "  0.8978695355941798,\n",
       "  0.8996582194026581,\n",
       "  0.9014111901132145,\n",
       "  0.9031288590948656,\n",
       "  0.9048116499136172,\n",
       "  0.9064599971923364,\n",
       "  0.9080743455118523,\n",
       "  0.9096551483539143,\n",
       "  0.9112028670864042,\n",
       "  0.9127179699909852,\n",
       "  0.9142009313331727,\n",
       "  0.915652230474638,\n",
       "  0.9170723510273948,\n",
       "  0.9184617800493774,\n",
       "  0.9198210072807917,\n",
       "  0.9211505244205125,\n",
       "  0.9224508244417003,\n",
       "  0.9237224009457331,\n",
       "  0.9249657475534719,\n",
       "  0.9261813573328275,\n",
       "  0.9273697222615417,\n",
       "  0.9285313327240637,\n",
       "  0.9296666770413701,\n",
       "  0.9307762410325572,\n",
       "  0.9318605076070247,\n",
       "  0.9329199563860572,\n",
       "  0.9339550633526171,\n",
       "  0.9349663005281618,\n",
       "  0.9359541356753118,\n",
       "  0.9369190320252098,\n",
       "  0.9378614480284261,\n",
       "  0.9387818371282927,\n",
       "  0.9396806475555644,\n",
       "  0.9405583221433387,\n",
       "  0.9414152981611891,\n",
       "  0.9422520071674977,\n",
       "  0.9430688748790045,\n",
       "  0.9438663210566208,\n",
       "  0.9446447594065874,\n",
       "  0.9454045974960908,\n",
       "  0.946146236682483,\n",
       "  0.9468700720552843,\n",
       "  0.9475764923901817,\n",
       "  0.9482658801142658,\n",
       "  0.9489386112817843,\n",
       "  0.9495950555597193,\n",
       "  0.9502355762225302,\n",
       "  0.9508605301554289,\n",
       "  0.9514702678655906,\n",
       "  0.9520651335007259,\n",
       "  0.9526454648744732,\n",
       "  0.9532115934980957,\n",
       "  0.9537638446179915,\n",
       "  0.9543025372585551,\n",
       "  0.9548279842699511,\n",
       "  0.9553404923803828,\n",
       "  0.9558403622524652,\n",
       "  0.9563278885433302,\n",
       "  0.956803359968115,\n",
       "  0.9572670593665044,\n",
       "  0.9577192637720148,\n",
       "  0.9581602444837314,\n",
       "  0.9585902671402207,\n",
       "  0.9590095917953627,\n",
       "  0.9594184729958618,\n",
       "  0.9598171598602075,\n",
       "  0.9602058961588764,\n",
       "  0.960584920395574,\n",
       "  0.9609544658893344,\n",
       "  0.9613147608573032,\n",
       "  0.9616660284980426,\n",
       "  0.9620084870752114,\n",
       "  0.9623423500014773,\n",
       "  0.9626678259225355,\n",
       "  0.9629851188011115,\n",
       "  0.9632944280008385,\n",
       "  0.9635959483699074,\n",
       "  0.9638898703243928,\n",
       "  0.9641763799311712,\n",
       "  0.964455658990349,\n",
       "  0.9647278851171278,\n",
       "  0.9649932318230408,\n",
       "  0.965251868596498,\n",
       "  0.9655039609825862,\n",
       "  0.9657496706620708,\n",
       "  0.965989155529558,\n",
       "  0.9662225697707718,\n",
       "  0.9664500639389135,\n",
       "  0.9666717850300681,\n",
       "  0.9668878765576302,\n",
       "  0.9670984786257235,\n",
       "  0.967303728001593,\n",
       "  0.967503758186949,\n",
       "  0.9676986994882484,\n",
       "  0.9678886790858996,\n",
       "  0.9680738211023796,\n",
       "  0.9682542466692547,\n",
       "  0.9684300739930987,\n",
       "  0.9686014184203035,\n",
       "  0.9687683925007807,\n",
       "  0.9689311060505518,\n",
       "  0.9690896662132273,\n",
       "  0.9692441775203796,\n",
       "  0.9693947419508092,\n",
       "  0.9695414589887122,\n",
       "  0.9696844256807532,\n",
       "  0.9698237366920499,\n",
       "  0.9699594843610794,\n",
       "  0.9700917587535123,\n",
       "  0.9702206477149858,\n",
       "  0.9703462369228254,\n",
       "  0.9704686099367253,\n",
       "  0.9705878482484005,\n",
       "  0.9707040313302204,\n",
       "  0.9708172366828386,\n",
       "  0.9709275398818291,\n",
       "  0.9710350146233447,\n",
       "  0.9711397327688087,\n",
       "  0.9712417643886551,\n",
       "  0.9713411778051311,\n",
       "  0.9714380396341753,\n",
       "  0.9715324148263869,\n",
       "  0.9716243667070993,\n",
       "  0.9717139570155737,\n",
       "  0.9718012459433271,\n",
       "  0.971886292171608,\n",
       "  0.9719691529080374,\n",
       "  0.9720498839224265,\n",
       "  0.9721285395817881,\n",
       "  0.9722051728845555,\n",
       "  0.9722798354940239,\n",
       "  0.9723525777710276,\n",
       "  0.9724234488058695,\n",
       "  0.9724924964495157,\n",
       "  0.9725597673440696,\n",
       "  0.97262530695254,\n",
       "  0.9726891595879176,\n",
       "  0.9727513684415724,\n",
       "  0.9728119756109876,\n",
       "  0.9728710221268413,\n",
       "  0.9729285479794515,\n",
       "  0.9729845921445963,\n",
       "  0.9730391926087232,\n",
       "  0.973092386393559,\n",
       "  0.9731442095801351,\n",
       "  0.9731946973322388,\n",
       "  0.973243883919304,\n",
       "  0.9732918027387529,\n",
       "  0.973338486337801,\n",
       "  0.9733839664347369,\n",
       "  0.973428273939689,\n",
       "  0.9734714389748896,\n",
       "  0.9735134908944482,\n",
       "  0.9735544583036443,\n",
       "  0.9735943690777523,\n",
       "  0.9736332503804065,\n",
       "  0.9736711286815181,\n",
       "  0.9737080297747548,\n",
       "  0.973743978794592,\n",
       "  0.9737790002329455,\n",
       "  0.9738131179553963,\n",
       "  0.9738463552170156,\n",
       "  0.9738787346778007,\n",
       "  0.9739102784177296,\n",
       "  0.9739410079514434,\n",
       "  0.973970944242567,\n",
       "  0.9740001077176731,\n",
       "  0.9740285182799013,\n",
       "  0.9740561953222393,\n",
       "  0.9740831577404726,\n",
       "  0.9741094239458136,\n",
       "  0.9741350118772147,\n",
       "  0.9741599390133757,\n",
       "  0.9741842223844502,\n",
       "  0.9742078785834605,\n",
       "  0.9742309237774264,\n",
       "  0.9742533737182156,\n",
       "  0.9742752437531225,\n",
       "  0.9742965488351809,\n",
       "  0.974317303533219,\n",
       "  0.9743375220416605,\n",
       "  0.9743572181900805,\n",
       "  0.9743764054525201,\n",
       "  0.9743950969565669,\n",
       "  0.9744133054922064,\n",
       "  0.9744310435204503,\n",
       "  0.9744483231817471,\n",
       "  0.9744651563041805,\n",
       "  0.97448155441146,\n",
       "  0.9744975287307102,\n",
       "  0.9745130902000624,\n",
       "  0.9745282494760545,\n",
       "  0.9745430169408433,\n",
       "  0.9745574027092335,\n",
       "  0.9745714166355293,\n",
       "  0.9745850683202114,\n",
       "  0.974598367116445,\n",
       "  0.9746113221364222,\n",
       "  0.9746239422575432,\n",
       "  0.9746362361284407,\n",
       "  0.9746482121748504,\n",
       "  0.9746598786053329,\n",
       "  0.974671243416849,\n",
       "  0.974682314400194,\n",
       "  0.974693099145293,\n",
       "  0.9747036050463606,\n",
       "  0.9747138393069302,\n",
       "  0.9747238089447545,\n",
       "  0.9747335207965803,\n",
       "  0.9747429815228021,\n",
       "  0.9747521976119973,\n",
       "  0.9747611753853439,\n",
       "  0.9747699210009271,\n",
       "  0.9747784404579344,\n",
       "  0.9747867396007444,\n",
       "  0.9747948241229104,\n",
       "  0.9748026995710424,\n",
       "  0.974810371348589,\n",
       "  0.974817844719524,\n",
       "  0.9748251248119366,\n",
       "  0.9748322166215314,\n",
       "  0.9748391250150373,\n",
       "  0.9748458547335302,\n",
       "  0.9748524103956696,\n",
       "  0.9748587965008526,\n",
       "  0.9748650174322872,\n",
       "  0.9748710774599858,\n",
       "  0.9748769807436836,\n",
       "  0.9748827313356799,\n",
       "  0.9748883331836088,\n",
       "  0.9748937901331364,\n",
       "  0.9748991059305905,\n",
       "  0.9749042842255222,\n",
       "  0.9749093285732012,\n",
       "  0.9749142424370476,\n",
       "  0.9749190291910009,\n",
       "  0.9749236921218282,\n",
       "  0.9749282344313727,\n",
       "  0.9749326592387452,\n",
       "  0.9749369695824582,\n",
       "  0.974941168422506,\n",
       "  0.9749452586423903,\n",
       "  0.9749492430510951,\n",
       "  0.974953124385009,\n",
       "  0.9749569053097997,\n",
       "  0.974960588422239,\n",
       "  0.9749641762519813,\n",
       "  0.9749676712632968,\n",
       "  0.9749710758567588,\n",
       "  0.9749743923708889,\n",
       "  0.9749776230837589,\n",
       "  0.9749807702145518,\n",
       "  0.9749838359250823,\n",
       "  0.974986822321279,\n",
       "  0.9749897314546268,\n",
       "  0.9749925653235737,\n",
       "  0.9749953258749006,\n",
       "  0.9749980150050556,\n",
       "  0.9750006345614542,\n",
       "  0.9750031863437466,\n",
       "  0.9750056721050505,\n",
       "  0.9750080935531541,\n",
       "  0.975010452351687,\n",
       "  0.9750127501212613,\n",
       "  0.9750149884405828,\n",
       "  0.9750171688475339,\n",
       "  0.9750192928402285,\n",
       "  0.9750213618780399,\n",
       "  0.9750233773826016,\n",
       "  0.9750253407387827,\n",
       "  0.9750272532956381,\n",
       "  0.9750291163673344,\n",
       "  0.9750309312340508,\n",
       "  0.9750326991428584,\n",
       "  0.9750344213085755,\n",
       "  0.9750360989146015,\n",
       "  0.9750377331137288,\n",
       "  0.975039325028934,\n",
       "  0.975040875754149,\n",
       "  0.9750423863550115,\n",
       "  0.9750438578695966,\n",
       "  0.9750452913091291,\n",
       "  0.9750466876586781,\n",
       "  0.975048047877833,\n",
       "  0.975049372901362,\n",
       "  0.9750506636398543,\n",
       "  0.975051920980345,\n",
       "  0.9750531457869243,\n",
       "  0.9750543389013304,\n",
       "  0.975055501143528,\n",
       "  0.9750566333122709,\n",
       "  0.9750577361856505,\n",
       "  0.9750588105216305,\n",
       "  0.9750598570585668,\n",
       "  0.975060876515715,\n",
       "  0.975060876515715],\n",
       " [1,\n",
       "  0.999340613347347,\n",
       "  0.9986990285873348,\n",
       "  0.9980747496917983,\n",
       "  0.9974672950734235,\n",
       "  0.9968761971475427,\n",
       "  0.9963010019070182,\n",
       "  0.9957412685099248,\n",
       "  0.9951965688797372,\n",
       "  0.9946664873177179,\n",
       "  0.9941506201272011,\n",
       "  0.9936485752494641,\n",
       "  0.9931599719108772,\n",
       "  0.9926844402810248,\n",
       "  0.9922216211414899,\n",
       "  0.9917711655649998,\n",
       "  0.9913327346046305,\n",
       "  0.9909059989927753,\n",
       "  0.9904906388495851,\n",
       "  0.9900863434005926,\n",
       "  0.989692810703242,\n",
       "  0.9893097473820461,\n",
       "  0.9889368683721044,\n",
       "  0.9885738966707166,\n",
       "  0.9882205630968383,\n",
       "  0.9878766060581256,\n",
       "  0.9875417713253289,\n",
       "  0.9872158118137968,\n",
       "  0.986898487371861,\n",
       "  0.9865895645758795,\n",
       "  0.9862888165317204,\n",
       "  0.9859960226824763,\n",
       "  0.985710968622206,\n",
       "  0.9854334459155046,\n",
       "  0.9851632519227126,\n",
       "  0.9849001896305757,\n",
       "  0.9846440674881793,\n",
       "  0.9843946992479816,\n",
       "  0.9841519038117779,\n",
       "  0.9839155050814344,\n",
       "  0.9836853318142345,\n",
       "  0.9834612174826833,\n",
       "  0.9832430001386285,\n",
       "  0.98303052228155,\n",
       "  0.982823630730886,\n",
       "  0.9826221765022609,\n",
       "  0.9824260146874878,\n",
       "  0.9822350043382213,\n",
       "  0.982049008353143,\n",
       "  0.9818678933685631,\n",
       "  0.9816915296523269,\n",
       "  0.9815197910009201,\n",
       "  0.9813525546396682,\n",
       "  0.9811897011259292,\n",
       "  0.9810311142551846,\n",
       "  0.9808766809699345,\n",
       "  0.9807262912713061,\n",
       "  0.9805798381332893,\n",
       "  0.9804372174195158,\n",
       "  0.9802983278024993,\n",
       "  0.9801630706852589,\n",
       "  0.9800313501252509,\n",
       "  0.9799030727605348,\n",
       "  0.979778147738103,\n",
       "  0.9796564866443072,\n",
       "  0.9795380034373136,\n",
       "  0.9794226143815257,\n",
       "  0.9793102379839109,\n",
       "  0.9792007949321736,\n",
       "  0.9790942080347156,\n",
       "  0.9789904021623298,\n",
       "  0.978889304191573,\n",
       "  0.9787908429497657,\n",
       "  0.9786949491615697,\n",
       "  0.9786015553970946,\n",
       "  0.9785105960214862,\n",
       "  0.9784220071459524,\n",
       "  0.9783357265801822,\n",
       "  0.9782516937861159,\n",
       "  0.9781698498330249,\n",
       "  0.9780901373538634,\n",
       "  0.978012500502851,\n",
       "  0.9779368849142525,\n",
       "  0.9778632376623151,\n",
       "  0.9777915072223334,\n",
       "  0.9777216434328037,\n",
       "  0.9776535974586383,\n",
       "  0.977587321755408,\n",
       "  0.9775227700345808,\n",
       "  0.9774598972297299,\n",
       "  0.9773986594636808,\n",
       "  0.9773390140165693,\n",
       "  0.9772809192947867,\n",
       "  0.9772243348007829,\n",
       "  0.9771692211037044,\n",
       "  0.9771155398108431,\n",
       "  0.9770632535398704,\n",
       "  0.9770123258918367,\n",
       "  0.9769627214249117,\n",
       "  0.9769144056288458,\n",
       "  0.9768673449001312,\n",
       "  0.9768215065178426,\n",
       "  0.9767768586201385,\n",
       "  0.9767333701814035,\n",
       "  0.9766910109900142,\n",
       "  0.9766497516267105,\n",
       "  0.9766095634435548,\n",
       "  0.9765704185434632,\n",
       "  0.9765322897602923,\n",
       "  0.9764951506394651,\n",
       "  0.9764589754191224,\n",
       "  0.9764237390117829,\n",
       "  0.9763894169865001,\n",
       "  0.9763559855514996,\n",
       "  0.9763234215372859,\n",
       "  0.9762917023802029,\n",
       "  0.9762608061064378,\n",
       "  0.9762307113164551,\n",
       "  0.9762013971698481,\n",
       "  0.9761728433705975,\n",
       "  0.9761450301527252,\n",
       "  0.9761179382663328,\n",
       "  0.9760915489640127,\n",
       "  0.9760658439876245,\n",
       "  0.9760408055554233,\n",
       "  0.9760164163495322,\n",
       "  0.9759926595037497,\n",
       "  0.9759695185916815,\n",
       "  0.9759469776151886,\n",
       "  0.9759250209931436,\n",
       "  0.9759036335504858,\n",
       "  0.975882800507567,\n",
       "  0.9758625074697811,\n",
       "  0.9758427404174684,\n",
       "  0.9758234856960888,\n",
       "  0.9758047300066542,\n",
       "  0.9757864603964163,\n",
       "  0.975768664249799,\n",
       "  0.9757513292795733,\n",
       "  0.9757344435182633,\n",
       "  0.9757179953097812,\n",
       "  0.9757019733012827,\n",
       "  0.9756863664352377,\n",
       "  0.97567116394171,\n",
       "  0.9756563553308419,\n",
       "  0.9756419303855353,\n",
       "  0.9756278791543271,\n",
       "  0.9756141919444524,\n",
       "  0.9756008593150893,\n",
       "  0.9755878720707827,\n",
       "  0.9755752212550405,\n",
       "  0.9755628981440987,\n",
       "  0.9755508942408502,\n",
       "  0.9755392012689332,\n",
       "  0.9755278111669751,\n",
       "  0.9755167160829873,\n",
       "  0.9755059083689075,\n",
       "  0.975495380575285,\n",
       "  0.9754851254461055,\n",
       "  0.975475135913752,\n",
       "  0.9754654050940968,\n",
       "  0.9754559262817236,\n",
       "  0.9754466929452734,\n",
       "  0.9754376987229133,\n",
       "  0.9754289374179234,\n",
       "  0.9754204029943992,\n",
       "  0.9754120895730676,\n",
       "  0.97540399142721,\n",
       "  0.9753961029786946,\n",
       "  0.9753884187941109,\n",
       "  0.9753809335810055,\n",
       "  0.9753736421842171,\n",
       "  0.9753665395823057,\n",
       "  0.9753596208840766,\n",
       "  0.9753528813251943,\n",
       "  0.9753463162648852,\n",
       "  0.9753399211827264,\n",
       "  0.9753336916755176,\n",
       "  0.9753276234542357,\n",
       "  0.9753217123410681,\n",
       "  0.9753159542665235,\n",
       "  0.9753103452666183,\n",
       "  0.9753048814801359,\n",
       "  0.9752995591459583,\n",
       "  0.9752943746004659,\n",
       "  0.9752893242750063,\n",
       "  0.9752844046934284,\n",
       "  0.9752796124696809,\n",
       "  0.9752749443054735,\n",
       "  0.9752703969879984,\n",
       "  0.9752659673877122,\n",
       "  0.9752616524561741,\n",
       "  0.9752574492239419,\n",
       "  0.9752533547985214,\n",
       "  0.9752493663623701,\n",
       "  0.9752454811709526,\n",
       "  0.975241696550846,\n",
       "  0.9752380098978956,\n",
       "  0.9752344186754176,\n",
       "  0.9752309204124492,\n",
       "  0.9752275127020439,\n",
       "  0.9752241931996111,\n",
       "  0.9752209596212988,\n",
       "  0.975217809742419,\n",
       "  0.9752147413959126,\n",
       "  0.9752117524708557,\n",
       "  0.975208840911004,\n",
       "  0.9752060047133749,\n",
       "  0.9752032419268667,\n",
       "  0.9752005506509136,\n",
       "  0.9751979290341756,\n",
       "  0.9751953752732623,\n",
       "  0.9751928876114901,\n",
       "  0.9751904643376718,\n",
       "  0.9751881037849366,\n",
       "  0.9751858043295824,\n",
       "  0.9751835643899563,\n",
       "  0.9751813824253653,\n",
       "  0.9751792569350146,\n",
       "  0.9751771864569735,\n",
       "  0.9751751695671687,\n",
       "  0.975173204878403,\n",
       "  0.9751712910393999,\n",
       "  0.975169426733873,\n",
       "  0.9751676106796191,\n",
       "  0.9751658416276354,\n",
       "  0.9751641183612594,\n",
       "  0.9751624396953306,\n",
       "  0.975160804475375,\n",
       "  0.9751592115768097,\n",
       "  0.9751576599041688,\n",
       "  0.9751561483903488,\n",
       "  0.9751546759958745,\n",
       "  0.9751532417081827,\n",
       "  0.9751518445409256,\n",
       "  0.9751504835332916,\n",
       "  0.9751491577493436,\n",
       "  0.9751478662773754,\n",
       "  0.9751466082292832,\n",
       "  0.9751453827399554,\n",
       "  0.9751441889666763,\n",
       "  0.9751430260885463,\n",
       "  0.975141893305917,\n",
       "  0.975140789839841,\n",
       "  0.9751397149315353,\n",
       "  0.9751386678418595,\n",
       "  0.9751376478508075,\n",
       "  0.9751376478508075])"
      ]
     },
     "execution_count": 6,
     "metadata": {},
     "output_type": "execute_result"
    }
   ],
   "source": [
    "x0, x1, x2 , path0, path1, path2"
   ]
  },
  {
   "cell_type": "code",
   "execution_count": 8,
   "metadata": {},
   "outputs": [
    {
     "data": {
      "text/plain": [
       "<Axes: >"
      ]
     },
     "execution_count": 8,
     "metadata": {},
     "output_type": "execute_result"
    },
    {
     "data": {
      "image/png": "[encoded data removed]",
      "text/plain": [
       "<Figure size 640x480 with 1 Axes>"
      ]
     },
     "metadata": {},
     "output_type": "display_data"
    }
   ],
   "source": [
    "sns.lineplot(data=[path1, path2])"
   ]
  },
  {
   "cell_type": "code",
   "execution_count": 10,
   "metadata": {},
   "outputs": [
    {
     "data": {
      "text/plain": [
       "((0, 0),\n",
       " (0.975060876515715, 0.41185702181234396),\n",
       " (0.9751376478508075, 1.6035293061150784))"
      ]
     },
     "execution_count": 10,
     "metadata": {},
     "output_type": "execute_result"
    }
   ],
   "source": [
    "(local_minimum0, local_maximum0), (local_minimum1, local_maximum1), (local_minimum2, local_maximum2)"
   ]
  },
  {
   "cell_type": "markdown",
   "metadata": {},
   "source": [
    "`Функциянаходит локальные минимумы и максимумы. Для каждой точки будет свой локальный минимум, вероятнее всего это связано с формой функции. При начальных точках равных 0.5 и 1 экстремумы почти совпадают.`"
   ]
  },
  {
   "cell_type": "markdown",
   "metadata": {
    "id": "lm6_Ln0GoliG"
   },
   "source": [
    "## Задание 3 (**0.5 балла**).\n",
    "Напишите функцию, вычисляющую значение весов в линейной регрессии по точной (аналитически найденной) формуле."
   ]
  },
  {
   "cell_type": "code",
   "execution_count": 11,
   "metadata": {
    "id": "ZrVvpU9miOga"
   },
   "outputs": [],
   "source": [
    "def ols_solution(X, y):\n",
    "    X = np.hstack((np.ones((X.shape[0], 1)), X))\n",
    "    w = np.linalg.inv(X.T @ X) @ X.T @ y\n",
    "    return w"
   ]
  },
  {
   "cell_type": "markdown",
   "metadata": {
    "id": "_shCsTQ1pVcU"
   },
   "source": [
    "## Задание 5 (**1 балл**).\n",
    "Модифицируйте метод градиентного спуска с семинара так, чтобы это теперь был метод стохастического градиентного спуска."
   ]
  },
  {
   "cell_type": "code",
   "execution_count": 12,
   "metadata": {
    "id": "fTZWxz1zpb9R"
   },
   "outputs": [],
   "source": [
    "def compute_cost(X, y, theta):\n",
    "    m = len(y)\n",
    "    cost = (1./m) * (np.linalg.norm(X @ theta - y) ** 2)    \n",
    "    return cost\n",
    "\n",
    "def compute_cost_derivative_sgd(X, y, theta):\n",
    "    error = X @ theta - y\n",
    "    gradient = 2 * error * X\n",
    "    return gradient\n",
    "\n",
    "def stochastic_gradient_descent(X, y, learning_rate, iterations):\n",
    "    X = np.hstack((np.ones((X.shape[0], 1)), X))\n",
    "    params = np.random.rand(X.shape[1])\n",
    "    cost_track = np.zeros(shape=(iterations, 1))\n",
    "    j = 0\n",
    "\n",
    "    for i in range(iterations):\n",
    "        j = np.random.randint(low=0, high=len(X)-1)\n",
    "        gradient = compute_cost_derivative_sgd(X=X[j], y=y[j], theta=params)\n",
    "        params = params - learning_rate * gradient\n",
    "        cost_track[i] = compute_cost(X=X, y=y, theta=params)\n",
    "    return params, cost_track"
   ]
  },
  {
   "cell_type": "markdown",
   "metadata": {
    "id": "WnRlUa9Npi9o"
   },
   "source": [
    "## Задание 6 (**3 балла**).\n",
    "* **(0 баллов)**. Скопируйте метод градиентного спуска из семинара в этот ноутбук.\n",
    "\n",
    "* **(0.5 балла)**. Обучите линейную регрессию на данных, сгенерированных ниже, тремя методами (по точной формуле, с помощью GD и с помощью SGD) на данных для задачи регрессии (см. код). Для GD и SGD используйте learning_rate = 0.01, iterations=10000.\n",
    "\n",
    "* **(0.5 балла)**. С помощью каждого метода сделайте предсказание (на всех данных), вычислите качество предсказания r2 (from sklearn.metrics import r2_score). Для получения предсказания можете использовать функцию predict с семинара.\n",
    "\n",
    "\n",
    "Ответьте на следующие вопросы (каждый вопрос - **0.5 балла**):\n",
    "\n",
    "1) все ли методы справились с нахождением минимума? если нет, то почему какой-то из методов не справился?\n",
    "\n",
    "2) сравните время работы методов (используйте библиотеку time): замеряйте время работы соответствующей написанной вами функции.\n",
    "\n",
    "3) для методов GD и SGD нарисуйте графики (для каждого свой) зависимости ошибки (loss) от номера итерации.\n",
    "\n",
    "4) какой метод успешнее всего справился с задачей? (т.е. r2 наибольший)."
   ]
  },
  {
   "cell_type": "code",
   "execution_count": 13,
   "metadata": {},
   "outputs": [],
   "source": [
    "import pandas as pd\n",
    "\n",
    "from sklearn.datasets import make_regression\n",
    "from sklearn.metrics import r2_score"
   ]
  },
  {
   "cell_type": "code",
   "execution_count": 14,
   "metadata": {},
   "outputs": [],
   "source": [
    "def prediction(X, w):\n",
    "    X = np.hstack((np.ones((X.shape[0], 1)), X))\n",
    "    return X @ w\n",
    "\n",
    "def compute_cost_derivative_gd(X, y, theta):\n",
    "    m = len(y)\n",
    "    error = X @ theta - y \n",
    "    gradient = (2 / m) * X.T @ error\n",
    "    return gradient\n",
    "    \n",
    "def gd(X, y, learning_rate, iterations):\n",
    "    X = np.hstack((np.ones((X.shape[0], 1)), X))\n",
    "    params = np.random.rand(X.shape[1])\n",
    "    cost_track = np.zeros(shape=(iterations, 1))\n",
    "\n",
    "    for i in range(iterations):\n",
    "        gradient = compute_cost_derivative_gd(X=X, y=y, theta=params)\n",
    "        params = params - learning_rate * gradient\n",
    "        cost_track[i] = compute_cost(X=X, y=y, theta=params)\n",
    "    return params, cost_track"
   ]
  },
  {
   "cell_type": "code",
   "execution_count": 15,
   "metadata": {
    "id": "LBu41KSpqbbI"
   },
   "outputs": [],
   "source": [
    "X, y, _ = make_regression(\n",
    "    n_samples=100000,\n",
    "    n_features=10,\n",
    "    n_informative=8,\n",
    "    noise=100,\n",
    "    coef=True,\n",
    "    random_state=123\n",
    ")\n",
    "X = pd.DataFrame(data=X, columns=np.arange(0, X.shape[1]))\n",
    "X[10] = X[6] + X[7] + np.random.random() * 0.01"
   ]
  },
  {
   "cell_type": "code",
   "execution_count": 16,
   "metadata": {},
   "outputs": [
    {
     "name": "stdout",
     "output_type": "stream",
     "text": [
      "CPU times: user 77.8 ms, sys: 34.5 ms, total: 112 ms\n",
      "Wall time: 30 ms\n"
     ]
    }
   ],
   "source": [
    "%%time\n",
    "\n",
    "\n",
    "w_ols = ols_solution(X=X, y=y)"
   ]
  },
  {
   "cell_type": "code",
   "execution_count": 17,
   "metadata": {},
   "outputs": [
    {
     "name": "stdout",
     "output_type": "stream",
     "text": [
      "CPU times: user 7min 49s, sys: 4min 17s, total: 12min 6s\n",
      "Wall time: 2min 41s\n"
     ]
    },
    {
     "data": {
      "text/plain": [
       "<Axes: >"
      ]
     },
     "execution_count": 17,
     "metadata": {},
     "output_type": "execute_result"
    },
    {
     "data": {
      "image/png": "[encoded data removed]",
      "text/plain": [
       "<Figure size 640x480 with 1 Axes>"
      ]
     },
     "metadata": {},
     "output_type": "display_data"
    }
   ],
   "source": [
    "%%time\n",
    "\n",
    "\n",
    "w_gd, cost_track_gd = gd(\n",
    "    X=X,\n",
    "    y=y,\n",
    "    learning_rate=0.01, \n",
    "    iterations=10_000\n",
    ")\n",
    "\n",
    "sns.lineplot(data=cost_track_gd)"
   ]
  },
  {
   "cell_type": "code",
   "execution_count": 18,
   "metadata": {},
   "outputs": [
    {
     "name": "stdout",
     "output_type": "stream",
     "text": [
      "CPU times: user 2min 28s, sys: 1min 9s, total: 3min 38s\n",
      "Wall time: 52.1 s\n"
     ]
    },
    {
     "data": {
      "text/plain": [
       "<Axes: >"
      ]
     },
     "execution_count": 18,
     "metadata": {},
     "output_type": "execute_result"
    },
    {
     "data": {
      "image/png": "[encoded data removed]",
      "text/plain": [
       "<Figure size 640x480 with 1 Axes>"
      ]
     },
     "metadata": {},
     "output_type": "display_data"
    }
   ],
   "source": [
    "%%time\n",
    "\n",
    "\n",
    "w_sgd, cost_track_sgd = stochastic_gradient_descent(\n",
    "    X=X,\n",
    "    y=y,\n",
    "    learning_rate=0.01, \n",
    "    iterations=10_000\n",
    ")\n",
    "\n",
    "sns.lineplot(data=cost_track_sgd)"
   ]
  },
  {
   "cell_type": "code",
   "execution_count": 19,
   "metadata": {},
   "outputs": [],
   "source": [
    "y_pred_ols = prediction(X=X, w=w_ols)\n",
    "y_pred_gd = prediction(X=X, w=w_gd)\n",
    "y_pred_sgd = prediction(X=X, w=w_sgd)"
   ]
  },
  {
   "cell_type": "code",
   "execution_count": 20,
   "metadata": {
    "id": "f1SE0-oUtVlO"
   },
   "outputs": [
    {
     "name": "stdout",
     "output_type": "stream",
     "text": [
      "R^2\n",
      "OLS: 0.7547225492295591\n",
      "GD: 0.7554626185750483\n",
      "SGD: 0.7181227645478541\n"
     ]
    }
   ],
   "source": [
    "print('R^2')\n",
    "print(f'OLS: {r2_score(y_true=y, y_pred=y_pred_ols)}')\n",
    "print(f'GD: {r2_score(y_true=y, y_pred=y_pred_gd)}')\n",
    "print(f'SGD: {r2_score(y_true=y, y_pred=y_pred_sgd)}')"
   ]
  },
  {
   "cell_type": "markdown",
   "metadata": {
    "id": "2zrdVgQrtcAn"
   },
   "source": [
    "1. Сумели обнаружить минимум все модели. Качество SGD оказалось хуже, что, в приципе, было ожидаемо.\n",
    "2. Самое быстрое выполнение -  OLS,  самое медленное - GD.\n",
    "3. Графики построены.\n",
    "4. Лучшее качество у GD."
   ]
  },
  {
   "cell_type": "markdown",
   "metadata": {
    "id": "wYmzzJVV54zT"
   },
   "source": [
    "## Задание 7 (1.5 балла).\n",
    "\n",
    "* **(0.5 балла)**. Добавьте в функцию из задания 5 L2-регуляризацию и, соответственно, новый аргумент - коэффициент при регуляризаторе.\n",
    "\n",
    "* **(1 балл)**. На сгенерированных выше данных обучите модифицированный алгоритм SGD с регуляризацией: в цикле перебирайте значения коэффициента регуляризации от 0.1 до 1 с шагом 0.1. Для каждого значения обучите модель и сделайте предсказание, выведите значение r2. Для какого значения коэффициента регуляризации получилось наилучшее качество r2, почему?"
   ]
  },
  {
   "cell_type": "code",
   "execution_count": 21,
   "metadata": {
    "id": "b_hC1Ehi612d"
   },
   "outputs": [],
   "source": [
    "def sgd_l2(X, y, learning_rate, iterations, C):\n",
    "    X = np.hstack((np.ones((X.shape[0], 1)), X))\n",
    "    params = np.random.rand(X.shape[1])\n",
    "    cost_track = np.zeros(shape=(iterations, 1))\n",
    "    j = 0\n",
    "\n",
    "    for i in range(iterations):\n",
    "        j = np.random.randint(low=0, high=len(X)-1)\n",
    "        gradient = compute_cost_derivative_sgd(X=X[j], y=y[j], theta=params)\n",
    "        params = params - learning_rate * (gradient + 2 * C * params)\n",
    "        cost_track[i] = compute_cost(X=X, y=y, theta=params)\n",
    "\n",
    "    return params, cost_track"
   ]
  },
  {
   "cell_type": "code",
   "execution_count": 22,
   "metadata": {},
   "outputs": [
    {
     "name": "stdout",
     "output_type": "stream",
     "text": [
      "SGD-L2 (C=0.1): 0.7211437721310247\n",
      "SGD-L2 (C=0.2): 0.728508422488175\n",
      "SGD-L2 (C=0.30000000000000004): 0.6791376143547061\n",
      "SGD-L2 (C=0.4): 0.677163086817743\n",
      "SGD-L2 (C=0.5): 0.6279242315442972\n",
      "SGD-L2 (C=0.6): 0.6831466874306382\n",
      "SGD-L2 (C=0.7000000000000001): 0.6835188958348055\n",
      "SGD-L2 (C=0.8): 0.6049136742231145\n",
      "SGD-L2 (C=0.9): 0.6480081938112965\n",
      "SGD-L2 (C=1.0): 0.6073120578224798\n"
     ]
    }
   ],
   "source": [
    "for C in np.arange(start=0.1, stop=1.1, step=0.1):\n",
    "    w_sgd_l2, cost_track_sgd_l2 = sgd_l2(\n",
    "        X=X,\n",
    "        y=y,\n",
    "        learning_rate=0.01, \n",
    "        iterations=10_000,\n",
    "        C=C\n",
    "    )\n",
    "    \n",
    "    y_pred_sgd_l2 = prediction(X=X, w=w_sgd_l2)\n",
    "    \n",
    "    print(f'SGD-L2 (C={C}): {r2_score(y_true=y, y_pred=y_pred_sgd_l2)}')"
   ]
  },
  {
   "cell_type": "markdown",
   "metadata": {},
   "source": [
    "`Наилучшее качество получилось для C = 0.2. Есть ощущение, что по мере увеличения С модель начинает крайне сильно штрафовать, что не позволяет добиться лучшего результата при обучении`"
   ]
  },
  {
   "cell_type": "markdown",
   "metadata": {
    "id": "zMUiRyCiCB3E"
   },
   "source": [
    "## Задание 8 (2 балла)\n",
    "\n",
    "Реализуйте на выбор одну из оптимизаций градиентного спуска - Momentum или  AdaGrad. Необходимые выкладки вы можете подсмотреть [здесь](https://education.yandex.ru/handbook/ml/article/optimizaciya-v-ml)."
   ]
  },
  {
   "cell_type": "code",
   "execution_count": 23,
   "metadata": {
    "id": "ID9ervHwCyc7"
   },
   "outputs": [],
   "source": [
    "def momentum_gd(X, y, learning_rate, iterations, C):\n",
    "    X = np.hstack((np.ones((X.shape[0], 1)), X))\n",
    "    params_current = np.random.rand(X.shape[1])\n",
    "    velocity = np.zeros_like(params_current)\n",
    "    cost_track = np.zeros(iterations)\n",
    "\n",
    "    for i in range(iterations):\n",
    "        gradient = compute_cost_derivative_gd(X=X, y=y, theta=params_current)\n",
    "        velocity = C * velocity - learning_rate * gradient\n",
    "        params_current = params_current + velocity\n",
    "        cost_track[i] = compute_cost(X=X, y=y, theta=params_current)\n",
    "\n",
    "    return params_current, cost_track"
   ]
  },
  {
   "cell_type": "code",
   "execution_count": 24,
   "metadata": {},
   "outputs": [
    {
     "name": "stdout",
     "output_type": "stream",
     "text": [
      "Momentum GD: 0.7554626185750482\n"
     ]
    }
   ],
   "source": [
    "w_momentum_gd, cost_trackmomentum_gd = momentum_gd(\n",
    "    X=X,\n",
    "    y=y,\n",
    "    learning_rate=0.01, \n",
    "    iterations=10_000,\n",
    "    C=0.1\n",
    ")\n",
    "\n",
    "y_pred_momentum_gd = prediction(X=X, w=w_momentum_gd)\n",
    "\n",
    "print(f'Momentum GD: {r2_score(y_true=y, y_pred=y_pred_momentum_gd)}')"
   ]
  },
  {
   "cell_type": "markdown",
   "metadata": {
    "id": "tP182Wbyh8xg"
   },
   "source": [
    "## Бонус\n",
    "\n",
    "## Задание 9 (0.5 балла)\n",
    "\n",
    "Существует [метод Ньютона](https://en.wikipedia.org/wiki/Newton%27s_method_in_optimization) (метод второго порядка) для поиска минимума функции.\n",
    "\n",
    "Известно, что методы второго порядка точнее, чем методы первого порядка (то есть те, которые используют только первую производную для оптимизации). Как вы думаете, почему в оптимизации функций потерь все формулы используют только производные первого порядка? Почему не используют метод Ньютона?"
   ]
  },
  {
   "cell_type": "markdown",
   "metadata": {
    "id": "QBHOY5Ngi_C2"
   },
   "source": [
    "`Использование производной первого порядка менее затратная операция, в сравнении с методом Ньютона. Судя по источникам метод Ньютона должен быть немного точнее метода градиентного спуска, но этот плюс невилируется предложением ранее`"
   ]
  },
  {
   "cell_type": "markdown",
   "metadata": {
    "id": "u7hKRuViF7hv"
   },
   "source": [
    "## **Часть Котобонус** 🐈\n",
    "\n",
    "Ура-ура, с вами снова кот, который может добавить вам баллы!\n",
    "- 0.25, если вы угадаете, чей он\n",
    "- 0.05 если просто предположите\n",
    "\n",
    "**Подсказка:** кот одной из наших замечательных ассистенток!\n",
    "\n",
    "\n",
    "[Кайфующий кот](https://ibb.co/qxjz2tp)"
   ]
  },
  {
   "cell_type": "markdown",
   "metadata": {
    "id": "Hchpz56wGEzA"
   },
   "source": [
    "`Кот Сабрины`"
   ]
  },
  {
   "cell_type": "markdown",
   "metadata": {},
   "source": []
  }
 ],
 "metadata": {
  "colab": {
   "include_colab_link": true,
   "provenance": []
  },
  "kernelspec": {
   "display_name": "Python 3 (ipykernel)",
   "language": "python",
   "name": "python3"
  },
  "language_info": {
   "codemirror_mode": {
    "name": "ipython",
    "version": 3
   },
   "file_extension": ".py",
   "mimetype": "text/x-python",
   "name": "python",
   "nbconvert_exporter": "python",
   "pygments_lexer": "ipython3",
   "version": "3.9.6"
  }
 },
 "nbformat": 4,
 "nbformat_minor": 4
}
